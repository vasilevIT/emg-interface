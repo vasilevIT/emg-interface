{
  "cells": [
    {
      "cell_type": "code",
      "execution_count": 1,
      "metadata": {
        "pycharm": {
          "is_executing": false
        }
      },
      "outputs": [
        {
          "name": "stdout",
          "text": [
            "0     America/New_York\n1       America/Denver\n2     America/New_York\n3    America/Sao_Paulo\n4     America/New_York\n5     America/New_York\n6        Europe/Warsaw\n7                     \n8                     \n9                     \nName: tz, dtype: object\n"
          ],
          "output_type": "stream"
        }
      ],
      "source": [
        "\n",
        "\n",
        "from pandas import DataFrame, Series\n",
        "import pandas as pd\n",
        "import json\n",
        "\n",
        "\n",
        "path \u003d \u0027usagov_bitly_data2012-03-16-1331923249.txt\u0027\n",
        "records \u003d [json.loads(line) for line in open(path)]\n",
        "# time_zones \u003d [rec[\u0027tz\u0027] for rec in records if \u0027tz\u0027 in rec]\n",
        "# print(time_zones)\n",
        "frame \u003d DataFrame(records)\n",
        "print(frame[\u0027tz\u0027][:10])\n"
      ]
    },
    {
      "cell_type": "code",
      "execution_count": 2,
      "metadata": {
        "pycharm": {
          "is_executing": false,
          "metadata": false,
          "name": "#%%\n"
        }
      },
      "outputs": [
        {
          "name": "stdout",
          "text": [
            "America/New_York       1251\n                        521\nAmerica/Chicago         400\nAmerica/Los_Angeles     382\nAmerica/Denver          191\nEurope/London            74\nAsia/Tokyo               37\nPacific/Honolulu         36\nEurope/Madrid            35\nAmerica/Sao_Paulo        33\nName: tz, dtype: int64\n"
          ],
          "output_type": "stream"
        }
      ],
      "source": [
        "tz_counts \u003d frame[\u0027tz\u0027].value_counts()\n",
        "\n",
        "print(tz_counts[:10])"
      ]
    },
    {
      "cell_type": "code",
      "execution_count": 3,
      "metadata": {
        "pycharm": {
          "is_executing": false,
          "metadata": false,
          "name": "#%%\n"
        }
      },
      "outputs": [
        {
          "traceback": [
            "\u001b[0;31m---------------------------------------------------------------------------\u001b[0m",
            "\u001b[0;31mTypeError\u001b[0m                                 Traceback (most recent call last)",
            "\u001b[0;32m\u003cipython-input-3-f759b1f7a1bb\u003e\u001b[0m in \u001b[0;36m\u003cmodule\u003e\u001b[0;34m\u001b[0m\n\u001b[0;32m----\u003e 1\u001b[0;31m \u001b[0mframe\u001b[0m\u001b[0;34m[\u001b[0m\u001b[0;34m\u0027tz\u0027\u001b[0m\u001b[0;34m]\u001b[0m\u001b[0;34m.\u001b[0m\u001b[0mplot\u001b[0m\u001b[0;34m.\u001b[0m\u001b[0mpie\u001b[0m\u001b[0;34m(\u001b[0m\u001b[0;34m)\u001b[0m\u001b[0;34m\u001b[0m\u001b[0;34m\u001b[0m\u001b[0m\n\u001b[0m",
            "\u001b[0;32m~/PyCharmProjects/emg-interface/emg-env/lib/python3.7/site-packages/pandas/plotting/_core.py\u001b[0m in \u001b[0;36mpie\u001b[0;34m(self, **kwargs)\u001b[0m\n\u001b[1;32m   1361\u001b[0m         ):\n\u001b[1;32m   1362\u001b[0m             \u001b[0;32mraise\u001b[0m \u001b[0mValueError\u001b[0m\u001b[0;34m(\u001b[0m\u001b[0;34m\"pie requires either y column or \u0027subplots\u003dTrue\u0027\"\u001b[0m\u001b[0;34m)\u001b[0m\u001b[0;34m\u001b[0m\u001b[0;34m\u001b[0m\u001b[0m\n\u001b[0;32m-\u003e 1363\u001b[0;31m         \u001b[0;32mreturn\u001b[0m \u001b[0mself\u001b[0m\u001b[0;34m(\u001b[0m\u001b[0mkind\u001b[0m\u001b[0;34m\u003d\u001b[0m\u001b[0;34m\"pie\"\u001b[0m\u001b[0;34m,\u001b[0m \u001b[0;34m**\u001b[0m\u001b[0mkwargs\u001b[0m\u001b[0;34m)\u001b[0m\u001b[0;34m\u001b[0m\u001b[0;34m\u001b[0m\u001b[0m\n\u001b[0m\u001b[1;32m   1364\u001b[0m \u001b[0;34m\u001b[0m\u001b[0m\n\u001b[1;32m   1365\u001b[0m     \u001b[0;32mdef\u001b[0m \u001b[0mscatter\u001b[0m\u001b[0;34m(\u001b[0m\u001b[0mself\u001b[0m\u001b[0;34m,\u001b[0m \u001b[0mx\u001b[0m\u001b[0;34m,\u001b[0m \u001b[0my\u001b[0m\u001b[0;34m,\u001b[0m \u001b[0ms\u001b[0m\u001b[0;34m\u003d\u001b[0m\u001b[0;32mNone\u001b[0m\u001b[0;34m,\u001b[0m \u001b[0mc\u001b[0m\u001b[0;34m\u003d\u001b[0m\u001b[0;32mNone\u001b[0m\u001b[0;34m,\u001b[0m \u001b[0;34m**\u001b[0m\u001b[0mkwargs\u001b[0m\u001b[0;34m)\u001b[0m\u001b[0;34m:\u001b[0m\u001b[0;34m\u001b[0m\u001b[0;34m\u001b[0m\u001b[0m\n",
            "\u001b[0;32m~/PyCharmProjects/emg-interface/emg-env/lib/python3.7/site-packages/pandas/plotting/_core.py\u001b[0m in \u001b[0;36m__call__\u001b[0;34m(self, *args, **kwargs)\u001b[0m\n\u001b[1;32m    792\u001b[0m                     \u001b[0mdata\u001b[0m\u001b[0;34m.\u001b[0m\u001b[0mcolumns\u001b[0m \u001b[0;34m\u003d\u001b[0m \u001b[0mlabel_name\u001b[0m\u001b[0;34m\u001b[0m\u001b[0;34m\u001b[0m\u001b[0m\n\u001b[1;32m    793\u001b[0m \u001b[0;34m\u001b[0m\u001b[0m\n\u001b[0;32m--\u003e 794\u001b[0;31m         \u001b[0;32mreturn\u001b[0m \u001b[0mplot_backend\u001b[0m\u001b[0;34m.\u001b[0m\u001b[0mplot\u001b[0m\u001b[0;34m(\u001b[0m\u001b[0mdata\u001b[0m\u001b[0;34m,\u001b[0m \u001b[0mkind\u001b[0m\u001b[0;34m\u003d\u001b[0m\u001b[0mkind\u001b[0m\u001b[0;34m,\u001b[0m \u001b[0;34m**\u001b[0m\u001b[0mkwargs\u001b[0m\u001b[0;34m)\u001b[0m\u001b[0;34m\u001b[0m\u001b[0;34m\u001b[0m\u001b[0m\n\u001b[0m\u001b[1;32m    795\u001b[0m \u001b[0;34m\u001b[0m\u001b[0m\n\u001b[1;32m    796\u001b[0m     \u001b[0;32mdef\u001b[0m \u001b[0mline\u001b[0m\u001b[0;34m(\u001b[0m\u001b[0mself\u001b[0m\u001b[0;34m,\u001b[0m \u001b[0mx\u001b[0m\u001b[0;34m\u003d\u001b[0m\u001b[0;32mNone\u001b[0m\u001b[0;34m,\u001b[0m \u001b[0my\u001b[0m\u001b[0;34m\u003d\u001b[0m\u001b[0;32mNone\u001b[0m\u001b[0;34m,\u001b[0m \u001b[0;34m**\u001b[0m\u001b[0mkwargs\u001b[0m\u001b[0;34m)\u001b[0m\u001b[0;34m:\u001b[0m\u001b[0;34m\u001b[0m\u001b[0;34m\u001b[0m\u001b[0m\n",
            "\u001b[0;32m~/PyCharmProjects/emg-interface/emg-env/lib/python3.7/site-packages/pandas/plotting/_matplotlib/__init__.py\u001b[0m in \u001b[0;36mplot\u001b[0;34m(data, kind, **kwargs)\u001b[0m\n\u001b[1;32m     59\u001b[0m                 \u001b[0max\u001b[0m \u001b[0;34m\u003d\u001b[0m \u001b[0mplt\u001b[0m\u001b[0;34m.\u001b[0m\u001b[0mgca\u001b[0m\u001b[0;34m(\u001b[0m\u001b[0;34m)\u001b[0m\u001b[0;34m\u001b[0m\u001b[0;34m\u001b[0m\u001b[0m\n\u001b[1;32m     60\u001b[0m             \u001b[0mkwargs\u001b[0m\u001b[0;34m[\u001b[0m\u001b[0;34m\"ax\"\u001b[0m\u001b[0;34m]\u001b[0m \u001b[0;34m\u003d\u001b[0m \u001b[0mgetattr\u001b[0m\u001b[0;34m(\u001b[0m\u001b[0max\u001b[0m\u001b[0;34m,\u001b[0m \u001b[0;34m\"left_ax\"\u001b[0m\u001b[0;34m,\u001b[0m \u001b[0max\u001b[0m\u001b[0;34m)\u001b[0m\u001b[0;34m\u001b[0m\u001b[0;34m\u001b[0m\u001b[0m\n\u001b[0;32m---\u003e 61\u001b[0;31m     \u001b[0mplot_obj\u001b[0m \u001b[0;34m\u003d\u001b[0m \u001b[0mPLOT_CLASSES\u001b[0m\u001b[0;34m[\u001b[0m\u001b[0mkind\u001b[0m\u001b[0;34m]\u001b[0m\u001b[0;34m(\u001b[0m\u001b[0mdata\u001b[0m\u001b[0;34m,\u001b[0m \u001b[0;34m**\u001b[0m\u001b[0mkwargs\u001b[0m\u001b[0;34m)\u001b[0m\u001b[0;34m\u001b[0m\u001b[0;34m\u001b[0m\u001b[0m\n\u001b[0m\u001b[1;32m     62\u001b[0m     \u001b[0mplot_obj\u001b[0m\u001b[0;34m.\u001b[0m\u001b[0mgenerate\u001b[0m\u001b[0;34m(\u001b[0m\u001b[0;34m)\u001b[0m\u001b[0;34m\u001b[0m\u001b[0;34m\u001b[0m\u001b[0m\n\u001b[1;32m     63\u001b[0m     \u001b[0mplot_obj\u001b[0m\u001b[0;34m.\u001b[0m\u001b[0mdraw\u001b[0m\u001b[0;34m(\u001b[0m\u001b[0;34m)\u001b[0m\u001b[0;34m\u001b[0m\u001b[0;34m\u001b[0m\u001b[0m\n",
            "\u001b[0;32m~/PyCharmProjects/emg-interface/emg-env/lib/python3.7/site-packages/pandas/plotting/_matplotlib/core.py\u001b[0m in \u001b[0;36m__init__\u001b[0;34m(self, data, kind, **kwargs)\u001b[0m\n\u001b[1;32m   1445\u001b[0m     \u001b[0;32mdef\u001b[0m \u001b[0m__init__\u001b[0m\u001b[0;34m(\u001b[0m\u001b[0mself\u001b[0m\u001b[0;34m,\u001b[0m \u001b[0mdata\u001b[0m\u001b[0;34m,\u001b[0m \u001b[0mkind\u001b[0m\u001b[0;34m\u003d\u001b[0m\u001b[0;32mNone\u001b[0m\u001b[0;34m,\u001b[0m \u001b[0;34m**\u001b[0m\u001b[0mkwargs\u001b[0m\u001b[0;34m)\u001b[0m\u001b[0;34m:\u001b[0m\u001b[0;34m\u001b[0m\u001b[0;34m\u001b[0m\u001b[0m\n\u001b[1;32m   1446\u001b[0m         \u001b[0mdata\u001b[0m \u001b[0;34m\u003d\u001b[0m \u001b[0mdata\u001b[0m\u001b[0;34m.\u001b[0m\u001b[0mfillna\u001b[0m\u001b[0;34m(\u001b[0m\u001b[0mvalue\u001b[0m\u001b[0;34m\u003d\u001b[0m\u001b[0;36m0\u001b[0m\u001b[0;34m)\u001b[0m\u001b[0;34m\u001b[0m\u001b[0;34m\u001b[0m\u001b[0m\n\u001b[0;32m-\u003e 1447\u001b[0;31m         \u001b[0;32mif\u001b[0m \u001b[0;34m(\u001b[0m\u001b[0mdata\u001b[0m \u001b[0;34m\u003c\u001b[0m \u001b[0;36m0\u001b[0m\u001b[0;34m)\u001b[0m\u001b[0;34m.\u001b[0m\u001b[0many\u001b[0m\u001b[0;34m(\u001b[0m\u001b[0;34m)\u001b[0m\u001b[0;34m.\u001b[0m\u001b[0many\u001b[0m\u001b[0;34m(\u001b[0m\u001b[0;34m)\u001b[0m\u001b[0;34m:\u001b[0m\u001b[0;34m\u001b[0m\u001b[0;34m\u001b[0m\u001b[0m\n\u001b[0m\u001b[1;32m   1448\u001b[0m             \u001b[0;32mraise\u001b[0m \u001b[0mValueError\u001b[0m\u001b[0;34m(\u001b[0m\u001b[0;34m\"{0} doesn\u0027t allow negative values\"\u001b[0m\u001b[0;34m.\u001b[0m\u001b[0mformat\u001b[0m\u001b[0;34m(\u001b[0m\u001b[0mkind\u001b[0m\u001b[0;34m)\u001b[0m\u001b[0;34m)\u001b[0m\u001b[0;34m\u001b[0m\u001b[0;34m\u001b[0m\u001b[0m\n\u001b[1;32m   1449\u001b[0m         \u001b[0mMPLPlot\u001b[0m\u001b[0;34m.\u001b[0m\u001b[0m__init__\u001b[0m\u001b[0;34m(\u001b[0m\u001b[0mself\u001b[0m\u001b[0;34m,\u001b[0m \u001b[0mdata\u001b[0m\u001b[0;34m,\u001b[0m \u001b[0mkind\u001b[0m\u001b[0;34m\u003d\u001b[0m\u001b[0mkind\u001b[0m\u001b[0;34m,\u001b[0m \u001b[0;34m**\u001b[0m\u001b[0mkwargs\u001b[0m\u001b[0;34m)\u001b[0m\u001b[0;34m\u001b[0m\u001b[0;34m\u001b[0m\u001b[0m\n",
            "\u001b[0;32m~/PyCharmProjects/emg-interface/emg-env/lib/python3.7/site-packages/pandas/core/ops/__init__.py\u001b[0m in \u001b[0;36mwrapper\u001b[0;34m(self, other, axis)\u001b[0m\n\u001b[1;32m   1227\u001b[0m \u001b[0;34m\u001b[0m\u001b[0m\n\u001b[1;32m   1228\u001b[0m             \u001b[0;32mwith\u001b[0m \u001b[0mnp\u001b[0m\u001b[0;34m.\u001b[0m\u001b[0merrstate\u001b[0m\u001b[0;34m(\u001b[0m\u001b[0mall\u001b[0m\u001b[0;34m\u003d\u001b[0m\u001b[0;34m\"ignore\"\u001b[0m\u001b[0;34m)\u001b[0m\u001b[0;34m:\u001b[0m\u001b[0;34m\u001b[0m\u001b[0;34m\u001b[0m\u001b[0m\n\u001b[0;32m-\u003e 1229\u001b[0;31m                 \u001b[0mres\u001b[0m \u001b[0;34m\u003d\u001b[0m \u001b[0mna_op\u001b[0m\u001b[0;34m(\u001b[0m\u001b[0mvalues\u001b[0m\u001b[0;34m,\u001b[0m \u001b[0mother\u001b[0m\u001b[0;34m)\u001b[0m\u001b[0;34m\u001b[0m\u001b[0;34m\u001b[0m\u001b[0m\n\u001b[0m\u001b[1;32m   1230\u001b[0m             \u001b[0;32mif\u001b[0m \u001b[0mis_scalar\u001b[0m\u001b[0;34m(\u001b[0m\u001b[0mres\u001b[0m\u001b[0;34m)\u001b[0m\u001b[0;34m:\u001b[0m\u001b[0;34m\u001b[0m\u001b[0;34m\u001b[0m\u001b[0m\n\u001b[1;32m   1231\u001b[0m                 raise TypeError(\n",
            "\u001b[0;32m~/PyCharmProjects/emg-interface/emg-env/lib/python3.7/site-packages/pandas/core/ops/__init__.py\u001b[0m in \u001b[0;36mna_op\u001b[0;34m(x, y)\u001b[0m\n\u001b[1;32m   1089\u001b[0m \u001b[0;34m\u001b[0m\u001b[0m\n\u001b[1;32m   1090\u001b[0m         \u001b[0;32mif\u001b[0m \u001b[0mis_object_dtype\u001b[0m\u001b[0;34m(\u001b[0m\u001b[0mx\u001b[0m\u001b[0;34m.\u001b[0m\u001b[0mdtype\u001b[0m\u001b[0;34m)\u001b[0m\u001b[0;34m:\u001b[0m\u001b[0;34m\u001b[0m\u001b[0;34m\u001b[0m\u001b[0m\n\u001b[0;32m-\u003e 1091\u001b[0;31m             \u001b[0mresult\u001b[0m \u001b[0;34m\u003d\u001b[0m \u001b[0m_comp_method_OBJECT_ARRAY\u001b[0m\u001b[0;34m(\u001b[0m\u001b[0mop\u001b[0m\u001b[0;34m,\u001b[0m \u001b[0mx\u001b[0m\u001b[0;34m,\u001b[0m \u001b[0my\u001b[0m\u001b[0;34m)\u001b[0m\u001b[0;34m\u001b[0m\u001b[0;34m\u001b[0m\u001b[0m\n\u001b[0m\u001b[1;32m   1092\u001b[0m \u001b[0;34m\u001b[0m\u001b[0m\n\u001b[1;32m   1093\u001b[0m         \u001b[0;32melif\u001b[0m \u001b[0mis_datetimelike_v_numeric\u001b[0m\u001b[0;34m(\u001b[0m\u001b[0mx\u001b[0m\u001b[0;34m,\u001b[0m \u001b[0my\u001b[0m\u001b[0;34m)\u001b[0m\u001b[0;34m:\u001b[0m\u001b[0;34m\u001b[0m\u001b[0;34m\u001b[0m\u001b[0m\n",
            "\u001b[0;32m~/PyCharmProjects/emg-interface/emg-env/lib/python3.7/site-packages/pandas/core/ops/__init__.py\u001b[0m in \u001b[0;36m_comp_method_OBJECT_ARRAY\u001b[0;34m(op, x, y)\u001b[0m\n\u001b[1;32m   1067\u001b[0m         \u001b[0mresult\u001b[0m \u001b[0;34m\u003d\u001b[0m \u001b[0mlibops\u001b[0m\u001b[0;34m.\u001b[0m\u001b[0mvec_compare\u001b[0m\u001b[0;34m(\u001b[0m\u001b[0mx\u001b[0m\u001b[0;34m,\u001b[0m \u001b[0my\u001b[0m\u001b[0;34m,\u001b[0m \u001b[0mop\u001b[0m\u001b[0;34m)\u001b[0m\u001b[0;34m\u001b[0m\u001b[0;34m\u001b[0m\u001b[0m\n\u001b[1;32m   1068\u001b[0m     \u001b[0;32melse\u001b[0m\u001b[0;34m:\u001b[0m\u001b[0;34m\u001b[0m\u001b[0;34m\u001b[0m\u001b[0m\n\u001b[0;32m-\u003e 1069\u001b[0;31m         \u001b[0mresult\u001b[0m \u001b[0;34m\u003d\u001b[0m \u001b[0mlibops\u001b[0m\u001b[0;34m.\u001b[0m\u001b[0mscalar_compare\u001b[0m\u001b[0;34m(\u001b[0m\u001b[0mx\u001b[0m\u001b[0;34m,\u001b[0m \u001b[0my\u001b[0m\u001b[0;34m,\u001b[0m \u001b[0mop\u001b[0m\u001b[0;34m)\u001b[0m\u001b[0;34m\u001b[0m\u001b[0;34m\u001b[0m\u001b[0m\n\u001b[0m\u001b[1;32m   1070\u001b[0m     \u001b[0;32mreturn\u001b[0m \u001b[0mresult\u001b[0m\u001b[0;34m\u001b[0m\u001b[0;34m\u001b[0m\u001b[0m\n\u001b[1;32m   1071\u001b[0m \u001b[0;34m\u001b[0m\u001b[0m\n",
            "\u001b[0;32mpandas/_libs/ops.pyx\u001b[0m in \u001b[0;36mpandas._libs.ops.scalar_compare\u001b[0;34m()\u001b[0m\n",
            "\u001b[0;31mTypeError\u001b[0m: \u0027\u003c\u0027 not supported between instances of \u0027str\u0027 and \u0027int\u0027"
          ],
          "ename": "TypeError",
          "evalue": "\u0027\u003c\u0027 not supported between instances of \u0027str\u0027 and \u0027int\u0027",
          "output_type": "error"
        }
      ],
      "source": [
        "frame[\u0027tz\u0027].plot.pie()"
      ]
    },
    {
      "cell_type": "code",
      "execution_count": 4,
      "metadata": {
        "pycharm": {
          "is_executing": false,
          "metadata": false,
          "name": "#%%\n"
        }
      },
      "outputs": [
        {
          "data": {
            "text/plain": "\u003cFigure size 360x360 with 1 Axes\u003e",
            "image/png": "[encoded data removed]"
          },
          "metadata": {},
          "output_type": "display_data"
        }
      ],
      "source": [
        "\n",
        "df \u003d pd.DataFrame({\u0027mass\u0027: [0.330, 4.87 , 5.97],\n",
        "                   \u0027radius\u0027: [2439.7, 6051.8, 6378.1]},\n",
        "                  index\u003d[\u0027Mercury\u0027, \u0027Venus\u0027, \u0027Earth\u0027])\n",
        "plot \u003d df.plot.pie(y\u003d\u0027mass\u0027, figsize\u003d(5, 5))\n",
        "\n"
      ]
    },
    {
      "cell_type": "code",
      "execution_count": 7,
      "metadata": {
        "pycharm": {
          "is_executing": false,
          "metadata": false,
          "name": "#%%\n"
        }
      },
      "outputs": [],
      "source": [
        "# %reset\n",
        "# Тут просто описание\n",
        "from src.data_manager.rflab_np_manager import RflabNpDataManager\n"
      ]
    },
    {
      "cell_type": "code",
      "execution_count": 5,
      "metadata": {
        "pycharm": {
          "is_executing": false,
          "metadata": false,
          "name": "#%%\n"
        }
      },
      "outputs": [
        {
          "data": {
            "text/plain": "\u0027/Users/antonvasilev/PyCharmProjects/emg-interface\u0027"
          },
          "metadata": {},
          "output_type": "execute_result",
          "execution_count": 5
        }
      ],
      "source": [
        "import os\n",
        "os.getcwd()\n",
        "# !pwd\n"
      ]
    },
    {
      "cell_type": "code",
      "execution_count": 6,
      "metadata": {
        "pycharm": {
          "is_executing": false,
          "metadata": false,
          "name": "#%%\n"
        }
      },
      "outputs": [],
      "source": [
        "%pwd  #look at the current work dir\n",
        "# %cd data\n",
        "from src.data_manager.rflab_np_manager import RflabNpDataManager\n",
        "rflab_manager \u003d RflabNpDataManager()\n",
        "dataset \u003d rflab_manager.load()"
      ]
    },
    {
      "cell_type": "code",
      "execution_count": 8,
      "metadata": {
        "pycharm": {
          "is_executing": false,
          "metadata": false,
          "name": "#%%\n"
        }
      },
      "outputs": [
        {
          "data": {
            "text/plain": "(1480, 401)"
          },
          "metadata": {},
          "output_type": "execute_result",
          "execution_count": 8
        }
      ],
      "source": [
        "import pandas as pd\n",
        "# dataset.reshape((400,int(1479/400)))\n",
        "dataset.shape"
      ]
    },
    {
      "cell_type": "code",
      "execution_count": 9,
      "metadata": {
        "pycharm": {
          "is_executing": false
        }
      },
      "outputs": [
        {
          "data": {
            "text/plain": "(401,)"
          },
          "metadata": {},
          "output_type": "execute_result",
          "execution_count": 9
        }
      ],
      "source": [
        "dataset[0].shape"
      ]
    },
    {
      "cell_type": "code",
      "execution_count": 98,
      "metadata": {
        "pycharm": {
          "is_executing": false
        }
      },
      "outputs": [],
      "source": "df \u003d pd.DataFrame(dataset)"
    },
    {
      "cell_type": "code",
      "execution_count": 11,
      "metadata": {
        "pycharm": {
          "is_executing": false
        }
      },
      "outputs": [
        {
          "data": {
            "text/plain": "\u003cmatplotlib.axes._subplots.AxesSubplot at 0x10feab850\u003e"
          },
          "metadata": {},
          "output_type": "execute_result",
          "execution_count": 11
        },
        {
          "data": {
            "text/plain": "\u003cFigure size 432x288 with 1 Axes\u003e",
            "image/png": "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\u003d\u003d\n"
          },
          "metadata": {
            "needs_background": "light"
          },
          "output_type": "display_data"
        }
      ],
      "source": [
        "class_counts \u003d df[400].value_counts()\n",
        "class_counts.plot(kind\u003d\u0027barh\u0027)"
      ]
    },
    {
      "cell_type": "code",
      "execution_count": 12,
      "metadata": {
        "pycharm": {
          "is_executing": false
        }
      },
      "outputs": [
        {
          "data": {
            "text/plain": "\u003cmatplotlib.axes._subplots.AxesSubplot at 0x12f225b50\u003e"
          },
          "metadata": {},
          "output_type": "execute_result",
          "execution_count": 12
        },
        {
          "data": {
            "text/plain": "\u003cFigure size 432x288 with 1 Axes\u003e",
            "image/png": "iVBORw0KGgoAAAANSUhEUgAAAXwAAAEDCAYAAAA2k7/eAAAABHNCSVQICAgIfAhkiAAAAAlwSFlzAAALEgAACxIB0t1+/AAAADh0RVh0U29mdHdhcmUAbWF0cGxvdGxpYiB2ZXJzaW9uMy4xLjIsIGh0dHA6Ly9tYXRwbG90bGliLm9yZy8li6FKAAAWVUlEQVR4nO3df5BdZ33f8fdHlmVaDNjGjiz8o7KDmMRhUkM3Dg7gdLCcGJOJbAa3TtNGzIRRU2CGpGVaM2ZS2k6nTjIhmSQuqWIoBhIMcVDsFhP/woyTmWBYFxv/UIwEpkFGtoQJGE8mNEbf/nHPSot0ztm17pXu1dn3a2bnnHvOs/f5+lj72Wefe36kqpAkDd+qaRcgSTo6DHxJWiEMfElaIQx8SVohDHxJWiEMfElaIWY+8JN8IMmeJA8to+0vJXkwyf1J/iLJeYv2vSvJziSPJvnpRdu/uuh75o/Uf4ckTVtm/Tz8JBcBzwAfqqqXL9H2hVX1dLP+s8Bbq+rSJvg/ClwAvAS4E3hZVX0vyVeBuar6xpH875CkaZv5EX5V3QN8c/G2JD+Y5M+S3Jfkz5P8UNP26UXNng8s/DbbBNxYVd+tqseAnYzCX5JWjNXTLuAwbQV+qap2JPlx4L8DrwNI8jbg3wJrFrYBZwCfXfT9u5ptMPqlcHuSAv5HVW09CvVL0lF3zAV+khOBnwD+OMnC5hMWVqrqOuC6JP8CeDeweYm3fE1VPZ7kB4A7kvxV81eFJA3KMRf4jKahvlVV5y/R7kbgfc3648BZi/ad2WyjqhaWe5JsYzTVY+BLGpyZn8M/WDNP/1iSKwEy8o+b9Q2Lmr4B2NGs3wJcleSEJOcAG4DPJXl+khc03/t84KeAJc8GkqRj0cyP8JN8FPinwKlJdgH/Efh54H1J3g0cz2g0/wDw9iQbgb8H/oZmOqeqHk7yceAR4Fngbc0ZOmuBbc3U0Grgj6rqz47mf58kHS0zf1qmJGkyjrkpHUnS4ZnpKZ1TTz211q9fP+0yJOmYcd99932jqk5r2zfTgb9+/Xrm573bgSQtV5L/27XPKR1JWiEMfElaIQx8SVohDHxJWiEMfElaISYS+EkubR4ssjPJ1S37T0jysWb/vUnWT6JfSdLyjR34SY4DrgNeD5wH/NziJ001fhH4m6p6KfBbwK+N268k6bmZxHn4FwA7q+orAEluZPTAkUcWtdkEvKdZvwn4vSSpJe7r8OTTf8d7b3902YX8yBkv4qINp/G+z+x8DuVL0sowicA/A/jaote7gB/valNVzyb5NvBi4JDHCibZAmwBWHP6S/ndu5cX3lXwAy84gdt/5aJlf48krSQzd6Vt88SprQBzc3M1/9/esKzve/efPsinHnyCk/7hGh5b5vdI0tDk2u59k/jQtvPhIm1tkqwGXgQ8NYG+9wvB+35KUrdJBP7ngQ1JzkmyBriK0QNHFruFA48afBPw6aXm75+rBPZ5q2dJ6jT2lE4zJ/924DbgOOADzQNH/jMwX1W3AO8HPpxkJ/BNRr8UJiqM5vElSe0mModfVbcCtx607VcXrf8dcOUk+uqSBB/mIkndBnWlrXEvSd0GE/gJJr4k9RhO4HuWjiT1Gk7gB+fwJanHcAIfZ3Qkqc9wAj+elilJfQYT+KsSyjG+JHUaTODjCF+Seg0m8D1LR5L6DSfwPUtHknoNJ/BxSkeS+gwn8ONpmZLUZziBjzdPk6Q+wwl8R/iS1Gs4gY9z+JLUZzCBP7pdpiSpy2ACfyHunceXpHaDCfxVzQjfvJekdmMFfpJTktyRZEezPLmlzflJ/jLJw0m+mOSfj9Nndy2jpXkvSe3GHeFfDdxVVRuAu5rXB/tb4Beq6keAS4HfTnLSmP0ewikdSeo3buBvAm5o1m8ALj+4QVV9qap2NOtfB/YAp43Z7yEWRvj7zHtJajVu4K+tqt3N+hPA2r7GSS4A1gBfHrPftvcG8BbJktRh9VINktwJnN6y65rFL6qqknSmbZJ1wIeBzVW1r6fdFmALwNlnn71UeYdwRkeS2i0Z+FW1sWtfkieTrKuq3U2g7+lo90Lgk8A1VfXZJfrbCmwFmJubW3Z8exq+JPUbd0rnFmBzs74ZuPngBknWANuAD1XVTWP21yl4WqYk9Rk38K8FLkmyA9jYvCbJXJLrmzb/DLgIeHOS+5uv88fs9xAHTss08SWpzZJTOn2q6ing4pbt88BbmvWPAB8Zp5/lOHBa5pHuSZKOTYO50tYLrySp33ACf/8cvpEvSW2GE/iO8CWp14AC37N0JKnPcAK/WTqlI0nthhP4C1M65r0ktRpO4DdL816S2g0n8ONZOpLUZ0CBP1oa95LUbjiB3ywd4EtSu8EEPt4PX5J6DSbw998d2byXpFbDCXzn8CWp12ACf5VX2kpSr8EE/oHz8E18SWoznMD3SltJ6jWcwG/G+PtMfElqNZjAxxG+JPUaTOBn6SaStKKNHfhJTklyR5IdzfLknrYvTLIrye+N22/LewOO8CWpyyRG+FcDd1XVBuCu5nWX/wLcM4E+D+FZOpLUbxKBvwm4oVm/Abi8rVGSfwKsBW6fQJ8t7z9aOsKXpHaTCPy1VbW7WX+CUah/nySrgN8E3rnUmyXZkmQ+yfzevXuXXYRX2kpSv9XLaZTkTuD0ll3XLH5RVZWkLXPfCtxaVbsW5tq7VNVWYCvA3NzcsvN74bRM74cvSe2WFfhVtbFrX5Ink6yrqt1J1gF7WppdCLw2yVuBE4E1SZ6pqr75/ufEEb4k9VtW4C/hFmAzcG2zvPngBlX18wvrSd4MzE0y7Jv3bfqa5LtK0nBMYg7/WuCSJDuAjc1rkswluX4C778sByaKTHxJajP2CL+qngIubtk+D7ylZfsHgQ+O2+/BFqZ09pn3ktRqQFfaOqUjSX2GE/j7P7Q18SWpzXACv1k6wpekdsMJfK+0laRegwn8hTG+UzqS1G4wge8IX5L6DSfwp12AJM244QS+V9pKUq/BBP4qT8uUpF6DCXzn8CWp33ACv5nF32fiS1KrwQQ+3h5ZknoNJvC90laS+g0n8HPgMeaSpEMNJ/CbpSN8SWo3nMB3Dl+Seg0n8L0fviT1Gk7g7z8P38SXpDZjBX6SU5LckWRHszy5o93ZSW5Psj3JI0nWj9Nvax/N0riXpHbjjvCvBu6qqg3AXc3rNh8CfqOqfhi4ANgzZr+H8F46ktRv3MDfBNzQrN8AXH5wgyTnAaur6g6Aqnqmqv52zH4P4SMOJanfuIG/tqp2N+tPAGtb2rwM+FaSTyT5QpLfSHJc1xsm2ZJkPsn83r17l12Ip2VKUr/VSzVIcidwesuuaxa/qKpK0ha3q4HXAq8A/hr4GPBm4P1t/VXVVmArwNzc3LLj2ykdSeq3ZOBX1caufUmeTLKuqnYnWUf73Pwu4P6q+krzPX8KvIqOwD9cTulIUr9xp3RuATY365uBm1vafB44KclpzevXAY+M2e8hnNKRpH7jBv61wCVJdgAbm9ckmUtyPUBVfQ94J3BXkgcZZfMfjNnvIbzSVpL6LTml06eqngIubtk+D7xl0es7gB8dp6+lLczhG/mS1GZ4V9pOtwxJmlnDCfyFFRNfkloNJ/AXTss08SWp1XACv1k6hS9J7QYT+Ku88EqSeg0m8P3QVpL6DSbwF+xziC9JrQYT+AcegDLdOiRpVg0n8H0EiiT1Gk7gO8KXpF7DC/zpliFJM2s4gY+nZUpSn+EEvvfDl6Rewwn8ZukIX5LaDSfwncOXpF4DCnzvhy9JfYYT+NMuQJJm3HACvxnhe2sFSWo3nMBvlua9JLUbO/CTnJLkjiQ7muXJHe1+PcnDSbYn+Z0sDMknxCttJanfJEb4VwN3VdUG4K7m9fdJ8hPAqxk9yPzlwI8BPzmBvg/0sXDh1STfVJIGZBKBvwm4oVm/Abi8pU0BzwPWACcAxwNPTqDv/Q6M8I18SWozicBfW1W7m/UngLUHN6iqvwTuBnY3X7dV1fa2N0uyJcl8kvm9e/c+52KMe0lqt3o5jZLcCZzesuuaxS+qqpIckrlJXgr8MHBms+mOJK+tqj8/uG1VbQW2AszNzS07v+PdkSWp17ICv6o2du1L8mSSdVW1O8k6YE9LsyuAz1bVM833fAq4EDgk8A/X/guvTHxJajWJKZ1bgM3N+mbg5pY2fw38ZJLVSY5n9IFt65TO4fK0TEnqN4nAvxa4JMkOYGPzmiRzSa5v2twEfBl4EHgAeKCq/tcE+t7Pe+lIUr9lTen0qaqngItbts8Db2nWvwf863H76rMq3g9fkvoM7kpbb60gSe0GE/g4pSNJvQYT+MF7K0hSn+EEviN8Seo1nMBvlg7wJandcALfJ15JUq/hBH6zNO4lqd1wAt/PbCWp13AC3/vhS1KvwQQ+3g9fknoNJvBXTfSBiZI0PIMJ/HgvHUnqNZzAb5beS0eS2g0n8L3SVpJ6DSfwcUpHkvoMJ/D3j/BNfElqM5jAX+AIX5LaDSbw42mZktRrrMBPcmWSh5PsSzLX0+7SJI8m2Znk6nH67OwDb54mSX3GHeE/BLwRuKerQZLjgOuA1wPnAT+X5Lwx+23pZ7Q07yWp3VgPMa+q7XDgoqcOFwA7q+orTdsbgU3AI+P0fTDvlilJ/Y7GHP4ZwNcWvd7VbGuVZEuS+STze/fuXXYnq7zSVpJ6LTnCT3IncHrLrmuq6uZJF1RVW4GtAHNzc8uOb0/LlKR+SwZ+VW0cs4/HgbMWvT6z2TZRC9NK+8x7SWp1NKZ0Pg9sSHJOkjXAVcAtR6w353QkqdW4p2VekWQXcCHwySS3NdtfkuRWgKp6Fng7cBuwHfh4VT08Xtld9fihrSR1GfcsnW3AtpbtXwcuW/T6VuDWcfpajuAAX5K6DOZKWxjN4/uhrSS1G1bg4whfkroMK/Cdw5ekTsMKfOIIX5I6DCrwiRdeSVKXQQV+wDkdSeowqMBflZj3ktRhUIGfwD7vrSBJrYYV+DijI0ldhhX48SwdSeoyrMDHs3QkqcugAp94pa0kdRlU4Pc+aFGSVrhhBX5COcSXpFYDC3zP0pGkLsMKfJzDl6Quwwp874cvSZ0GFfirPEtHkjqN+0zbK5M8nGRfkrmONmcluTvJI03bd4zT5xIVOb6XpA7jjvAfAt4I3NPT5lng31XVecCrgLclOW/MflsleJaOJHUY9yHm22E0d97TZjewu1n/TpLtwBnAI+P03cYPbSWp21Gdw0+yHngFcO+ReX8DX5K6LDnCT3IncHrLrmuq6ubldpTkROBPgF+uqqd72m0BtgCcffbZy3370ffiWTqS1GXJwK+qjeN2kuR4RmH/h1X1iSX62wpsBZibm3tO6e0IX5K6HfEpnYwm+N8PbK+q9x7RvvBKW0nqMu5pmVck2QVcCHwyyW3N9pckubVp9mrgXwGvS3J/83XZWFV31+MIX5I6jHuWzjZgW8v2rwOXNet/wVG8kaVz+JLUblBX2sY5HUnqNLjAN+8lqd2gAn+V98OXpE6DCvwA+8x7SWo1rMCPN0+TpC7DCny8eZokdRlU4OOHtpLUaVCBHzDxJanDsALfRxxKUqdhBT7ePE2Sugwr8L1bpiR1Glbgez98Seo0rMB3hC9JnQYW+F54JUldhhX4eOGVJHUZVuA7pSNJnYYX+NMuQpJm1LACH2+PLEldhhX4jvAlqdO4DzG/MsnDSfYlmVui7XFJvpDkf4/TZ28fOIcvSV3GHeE/BLwRuGcZbd8BbB+zv36elilJncYK/KraXlWPLtUuyZnAG4Drx+lvyX7wtExJ6nK05vB/G/j3wL6lGibZkmQ+yfzevXufUyfJYVYnSSvAkoGf5M4kD7V8bVpOB0l+BthTVfctp31Vba2quaqaO+2005bzLQf6wjl8SeqyeqkGVbVxzD5eDfxsksuA5wEvTPKRqvqXY77vIVZ5P3xJ6nTEp3Sq6l1VdWZVrQeuAj59JMIeRlM6+5acNJKklWnc0zKvSLILuBD4ZJLbmu0vSXLrJAp8TvV4e2RJ6rTklE6fqtoGbGvZ/nXgspbtnwE+M06fvbyXjiR1GivwZ82F57542iVI0swaVOD/yiUvm3YJkjSzBnUvHUlSNwNfklYIA1+SVggDX5JWCANfklYIA1+SVggDX5JWCANfklaIzPIDQ5J8B1jyASsz4FTgG9MuYgnHQo1gnZNmnZN1LNT5j6qq9d7ys36l7aNV1fus3FmQZH7W6zwWagTrnDTrnKxjpc4uTulI0gph4EvSCjHrgb912gUs07FQ57FQI1jnpFnnZB0rdbaa6Q9tJUmTM+sjfEnShBj4krRCzGTgJ7k0yaNJdia5etr1LJbkq0keTHJ/kvlm2ylJ7kiyo1mePIW6PpBkT5KHFm1rrSsjv9Mc3y8meeWU63xPksebY3p/kssW7XtXU+ejSX76KNZ5VpK7kzyS5OEk72i2z9Qx7alzpo5pkucl+VySB5o6/1Oz/Zwk9zb1fCzJmmb7Cc3rnc3+9VOu84NJHlt0PM9vtk/tZ+mwVNVMfQHHAV8GzgXWAA8A5027rkX1fRU49aBtvw5c3axfDfzaFOq6CHgl8NBSdTF63vCngACvAu6dcp3vAd7Z0va85v//CcA5zb+L445SneuAVzbrLwC+1NQzU8e0p86ZOqbNcTmxWT8euLc5Th8Hrmq2/z7wb5r1twK/36xfBXzsKB3Prjo/CLyppf3UfpYO52sWR/gXADur6itV9f+AG4FNU65pKZuAG5r1G4DLj3YBVXUP8M2DNnfVtQn4UI18Fjgpybop1tllE3BjVX23qh4DdjL693HEVdXuqvo/zfp3gO3AGczYMe2ps8tUjmlzXJ5pXh7ffBXwOuCmZvvBx3PhON8EXJwkU6yzy9R+lg7HLAb+GcDXFr3eRf8/4KOtgNuT3JdkS7NtbVXtbtafANZOp7RDdNU1i8f47c2fxB9YNCU2E3U20wmvYDTam9ljelCdMGPHNMlxSe4H9gB3MPrr4ltV9WxLLfvrbPZ/G3jxNOqsqoXj+V+b4/lbSU44uM7GLPwsdZrFwJ91r6mqVwKvB96W5KLFO2v0d97Mnes6q3U13gf8IHA+sBv4zemWc0CSE4E/AX65qp5evG+WjmlLnTN3TKvqe1V1PnAmo78qfmjKJbU6uM4kLwfexajeHwNOAf7DFEs8bLMY+I8DZy16fWazbSZU1ePNcg+wjdE/3CcX/oxrlnumV+H36aprpo5xVT3Z/JDtA/6AA1MMU60zyfGMQvQPq+oTzeaZO6Ztdc7qMW1q+xZwN3AhoymQhXt6La5lf53N/hcBT02pzkubqbOqqu8C/5MZOp7PxSwG/ueBDc2n92sYfWBzy5RrAiDJ85O8YGEd+CngIUb1bW6abQZunk6Fh+iq6xbgF5ozDF4FfHvRNMVRd9Cc5xWMjimM6ryqOWPjHGAD8LmjVFOA9wPbq+q9i3bN1DHtqnPWjmmS05Kc1Kz/A+ASRp833A28qWl28PFcOM5vAj7d/EU1jTr/atEv+TD6nGHx8ZyZn6UlTftT47YvRp98f4nRHN81065nUV3nMjrD4QHg4YXaGM0t3gXsAO4ETplCbR9l9Kf73zOaR/zFrroYnVFwXXN8HwTmplznh5s6vsjoB2jdovbXNHU+Crz+KNb5GkbTNV8E7m++Lpu1Y9pT50wdU+BHgS809TwE/Gqz/VxGv3B2An8MnNBsf17zemez/9wp1/np5ng+BHyEA2fyTO1n6XC+vLWCJK0QszilI0k6Agx8SVohDHxJWiEMfElaIQx8SVohDHxJWiEMfElaIf4/LIS54+I/6B4AAAAASUVORK5CYII\u003d\n"
          },
          "metadata": {
            "needs_background": "light"
          },
          "output_type": "display_data"
        }
      ],
      "source": [
        "df.iloc[290][:-1].plot()"
      ]
    },
    {
      "cell_type": "code",
      "execution_count": 13,
      "metadata": {
        "pycharm": {
          "is_executing": false
        }
      },
      "outputs": [],
      "source": [
        "df \u003d df.rename(columns\u003d{400: \u0027y\u0027})"
      ]
    },
    {
      "cell_type": "code",
      "execution_count": 14,
      "metadata": {
        "pycharm": {
          "is_executing": false
        }
      },
      "outputs": [],
      "source": [
        "df.to_csv(\u0027test2.csv\u0027)"
      ]
    },
    {
      "cell_type": "code",
      "execution_count": 111,
      "metadata": {
        "pycharm": {
          "is_executing": false
        }
      },
      "outputs": [],
      "source": [
        "df \u003d pd.read_csv(\u0027test2.csv\u0027)"
      ]
    },
    {
      "cell_type": "code",
      "execution_count": 56,
      "metadata": {
        "pycharm": {}
      },
      "outputs": [
        {
          "data": {
            "text/plain": [
              "\u003cmatplotlib.axes._subplots.AxesSubplot at 0x120519250\u003e"
            ]
          },
          "execution_count": 56,
          "metadata": {},
          "output_type": "execute_result"
        },
        {
          "data": {
            "image/png": "iVBORw0KGgoAAAANSUhEUgAAAYUAAAD4CAYAAAAD6PrjAAAABHNCSVQICAgIfAhkiAAAAAlwSFlzAAALEgAACxIB0t1+/AAAADh0RVh0U29mdHdhcmUAbWF0cGxvdGxpYiB2ZXJzaW9uMy4xLjIsIGh0dHA6Ly9tYXRwbG90bGliLm9yZy8li6FKAAAZIUlEQVR4nO3df7AdZ33f8fdHMiIhNoVgQaglkBtEggqUgFCYZvgRBqidtHZaoDFTWihkPExxS0oImJBxiDNTCnSg08QFPAHC0FLzM61C1TgECJSSGMu/ANuYCENiOSQWv4yBYFu+3/6xe8899+Re60pn955d5f2aubrn7Nlz9qu9z3O+++zz7LOpKiRJAtiy6AAkScNhUpAkTZgUJEkTJgVJ0oRJQZI0ccqiA1jP6aefXrt27Vp0GJI0KlddddXXqmr7ib5/sElh165dHDx4cNFhSNKoJPmzed7v6SNJ0oRJQZI0YVKQJE2YFCRJEyYFSdLE3EkhyVlJbkpyKMmFa7z+wiRHklzb/vzCvNuUJPVjriGpSbYClwDPBA4DVybZX1U3zKz63qq6YJ5tSZL6N29LYR9wqKpurqq7gMuAc+cPa/N947t38c3v3rXoMKRjqio+cNVhvn/3PYsORSeheZPCGcAtU88Pt8tmPTvJZ5N8IMnO9T4syflJDiY5eOTIkTlDOz6v/MB1vOqDn93UbUon4ktHvsMr3n8dn/ji5tYR/e2wGR3NvwfsqqrHAh8B3rXeilV1aVXtraq927ef8FXaJ+T2v76b2//67k3dpnQi7r6nuTHW0Xu8QZa6N29SuBWYPvLf0S6bqKqvV9Wd7dPfBp4w5zZ7UQVWMY3B8s0SyxKrHsybFK4Edic5M8k24Dxg//QKSR469fQc4MY5t9mLmvwjDdtyMvBOuurDXKOPqupokguAy4GtwDuq6vokFwMHq2o/8O+SnAMcBb4BvHDOmHtRVVQWHYV0bMvJYMmsoB7MPUtqVR0ADswsu2jq8auBV8+7nb4VHnlpHCyn6pNXNLeW7FPQSHj6SH0a7P0UNl0VS1YyjYAdzeqTLYWWp480FsvF1PKqPpgUWg5J1VhUefpI/fH0UaswK2gcaua31CVbCi1bChqLSZ+CTQX1wKTQqrI5rrGoqX+lbpkUWoWjOTQO5fkj9cik0KoqWwoahZWcYIFV90wKU0wKGoOVaS4WG4dOTiaFlh3NGoslh6SqRw5JbRWePtI4eEWz+mRLoWVTXGPh3Efqky2FVjn3kcaiVv2SOmVLoeXcRxqLSTG1wKoHJoVldjRrJMqWgnpkUmg1LQWrmYbPPgX1yaTQqnIsh8bBuY/UJ5NCqyb/SMPmLBfqk0mh5cVrGgvvp6A+OSS15cVrGgtbCuqTLYWWLQWNhn0K6pFJoeX9FDQWzn2kPnn6qOXoI42Fcx+pT7YUWl7RrLGY9ClYXtUDk0LL00cai8noowXHoZOTp49ajj7SWNhSUJ9sKbQcfaSxsE9BfTIptOxT0Hg4+kj9MSm0mpaCtUzDZzJQn0wKE/YpaBxW+hQssOpeJ0khyVlJbkpyKMmF97Les5NUkr1dbLdL9iloLFZmSV1sHDo5zZ0UkmwFLgHOBvYAz0uyZ431TgNeBlwx7zb7YJ+CxmL5NKe3j1Ufumgp7AMOVdXNVXUXcBlw7hrr/QbweuD7HWyzc01T3Fqm4XP0kfrURVI4A7hl6vnhdtlEkscDO6vqf9/bByU5P8nBJAePHDnSQWgbt+TFaxoJ5z5Sn3rvaE6yBXgT8EvHWreqLq2qvVW1d/v27X2HNrttj7s0KpZX9aGLpHArsHPq+Y522bLTgEcDf5TkK8CTgP1D62z2Hs0ai6rZB1J3ukgKVwK7k5yZZBtwHrB/+cWqur2qTq+qXVW1C/gT4JyqOtjBtrtTdtxpHJbbtBZX9WHupFBVR4ELgMuBG4H3VdX1SS5Ocs68n79ZbCloLBySqj51MiFeVR0ADswsu2iddZ/WxTa7VlVUsugwpGNy9JH65BXNrZr8Iw2bXQrqk0mh5RXNGgvvp6A+eT+FlvdT0FjYUlCfbCm0bCloNOxTUI9MCi3nPtJYTIakWl7VA5PCMu+noJFYGZJqeVX3TAqtpbJPQeNgn4L6ZFJoOUeqxmLJ0UfqkUmhVfY0ayS8oll9Mim0ipUjMGnIJqePPIpRD0wKLRsKGg3vp6AemRSmOJpDY2ApVZ9MCjhtgMbFIanqk0kBO+40Lh7EqE8mBaxcGhevU1CfTAqsbobbJNfQLRdRR8upDyYFVrcUrGcaupr5LXXJpMDqIy4rmoauHJKqHpkUWF25PH2k8bCsqnsmhRlWMw3dki0F9cikwGxLYXFxSBvhEGr1yaTA6jlkHNGhoXPuI/XJpIBHXBoXWwrqk0kBh6RqXCa341xwHDo5mRSYuXjNqqaBs6WgPpkUsKWgcfIARn0wKTAz+mhxYUgbMmnZWljVA5MCrKpcXrymoXPuI/XJpMDqZrjVTEPn3Efqk0kBWPLiNY2IHc3qUydJIclZSW5KcijJhWu8/pIkn0tybZJPJdnTxXa7UnYqaEQckqo+zZ0UkmwFLgHOBvYAz1vjS/89VfWYqnoc8AbgTfNut0urRh9Z1TRwS5OWgmVV3euipbAPOFRVN1fVXcBlwLnTK1TVt6ee/hADO8hx7iONirfjVI9O6eAzzgBumXp+GPjJ2ZWSvBR4ObANePpaH5TkfOB8gIc97GEdhLYxzn2kMam/8UDqzqZ1NFfVJVX1o8CrgF9dZ51Lq2pvVe3dvn37ZoW2ekjq5m1VOiErlylYWtW9LpLCrcDOqec72mXruQz4uQ622xmvaNaYTDqaLavqQRdJ4Upgd5Izk2wDzgP2T6+QZPfU058F/rSD7XZm9eAja5qGzSGp6tPcfQpVdTTJBcDlwFbgHVV1fZKLgYNVtR+4IMkzgLuBbwIvmHe7XSrPH2lEvJ+C+tRFRzNVdQA4MLPsoqnHL+tiO33xMgWNyco0F4uNQycnr2jGPgWNi30K6pNJAViaOuSySa7Bc0yqemRSmOHRl4Zu0qdgWVUPTArYp6BxKa9oVo9MCsxMne3hlwbOuY/UJ5MCzn2kcfHGa+qTSQFHH2lcHH2kPpkUWN0Md/SRhs6WgvpkUsCWgsbJPgX1waSAo480LiYD9cmkAODoI42I1ymoTyYFbCloXFbmPrK0qnsmBVZPLGY909A5+kh9MikwO+LImqZh885r6pNJAS9e07jYp6A+mRSwT0Hj4nUK6pNJgdm5jxYYiLQhZgX1x6SA92jWuCwtNb8tq+qDSWHGcoWThsrRR+qTSQFbChoX+xTUJ5MC9iloXFZGH1lY1T2TAiYCjYstBfXJpICzpGpcllu2S5ZV9cCkgPdT0Mh49Zp6ZFLAuY80LjXzW+qSSQFYNXX2AqOQNmK5ZesBjPpgUmB27iNrmoZtpaVgWVX3TArMdDQvLAppYyajjyys6oFJAWdJ1bjYz6w+mRSYPWVkTdOwLd9xzZKqPpgUWF25HPutwZucPrKwqntzJ4UkZyW5KcmhJBeu8frLk9yQ5LNJPprk4fNus2uePtKY2MGsPs2VFJJsBS4Bzgb2AM9LsmdmtWuAvVX1WOADwBvm2WYfVs99ZIXTsNnRrD7N21LYBxyqqpur6i7gMuDc6RWq6uNV9b326Z8AO+bcZve885pGxHs0q0/zJoUzgFumnh9ul63nxcD/We/FJOcnOZjk4JEjR+YMbeOc+0hj4txH6tOmdTQneT6wF3jjeutU1aVVtbeq9m7fvn2zQpuM5gCPvjR8ZUezenTKnO+/Fdg59XxHu2yVJM8AXgM8tarunHObnXNEqsbEuY/Up3lbClcCu5OcmWQbcB6wf3qFJD8BvA04p6pum3N7vTAnaEzKrKAezZUUquoocAFwOXAj8L6quj7JxUnOaVd7I3Aq8P4k1ybZv87HLcyqqbOtaBo8L15Tf+Y9fURVHQAOzCy7aOrxM+bdRt9WtxSsaho2+xTUJ69ohtVDUq1nGjjPHqlPJgVmLl5bYBzSRix5PwX1yKTA6sq1ZE3TwHnxmvpkUsAhqRoXp85Wn0wK2NGscfF2nOqTSQGHpGqcHH2kPpgUWD2HjPVMQ7fSpyB1z6QA4OgjjcjyKU4PYNQHkwKzN9mxpmnYHH2kPpkUcO4jjYs32VGfTAp4O06NSzn3kXpkUmC2GW5V07DZUlCfTArYUtC4OCxCfTIpYJ+CxsWL19QnkwKrRxw595GGzusU1CeTwgxzgoZuZe4jC6u6Z1Jgpk9hcWFIGzI5fbTgOHRyMikwcz8Fj740cMsldGnJsqrumRSApaVFRyBtnH0K6pNJgZnRR9Y0DVz9jQdSd0wKzEydbU3T0NmnoB6ZFLCloHFx9JH6ZFKAVVnBeqahs09BfTIpMDP6aIFxSBvh/RTUJ5MC3k9B4+L9FNQnkwLOfaRxcZZU9cmkgC0FjcuSo4/UI5MCs1c0LzAQ6XhYVtUDkwLOfaRxWS6vzuirPpgUmLl4zXqmgfN2nOrT3EkhyVlJbkpyKMmFa7z+lCRXJzma5Dnzbq8PqzuarWoatpWOZsuqujdXUkiyFbgEOBvYAzwvyZ6Z1f4ceCHwnnm21Sdvx6kxqZnfUpdOmfP9+4BDVXUzQJLLgHOBG5ZXqKqvtK8Ndi7S1XMfScPm7TjVp3lPH50B3DL1/HC77IQkOT/JwSQHjxw5MmdoG7eqblnTNHCWUPVpUB3NVXVpVe2tqr3bt2/fxO1OPd60rUonyOtq1KN5k8KtwM6p5zvaZaPiLKkaE8ur+jRvUrgS2J3kzCTbgPOA/fOHtblWD0m1lmnY7ANTn+ZKClV1FLgAuBy4EXhfVV2f5OIk5wAkeWKSw8BzgbcluX7eoPtkJdPQrW4pWGLVrXlHH1FVB4ADM8sumnp8Jc1ppcGarlfeC11Dt2RLQT0aVEfzoqye+8hqpmHzuhr1yaSArQONy+qWrYVX3TIp4JGXJC0zKTB7O06zgobNCRzVJ5MCthQ0Lk7gqD6ZFGZYxTR0HsSoTyYFbI5rXFaf7pS6ZVJgdu4jq5mGzXuKq08mBZxLRuNS6zyWumBSwESgcbFPQX0yKeAVzRob53pXf0wKeOSlcVmyD0w9Mimw+mDLKS80dI6WU59MCszOT28t07CtPoixvKpbJgWao61k5bE0ZKvK62JD0UnIpEDTOsjksTRsVcWWNit4EKOumRRoKtYWmwoaiQK2TFoKlld1y6RAU8mS5scqpsFbdRCz2FB08pn7dpwngyoIYUtsKGj4mpZCJo+lLtlSoG2CB4LNcQ1fVbF1i30K6odJAWhzQnP6yEqmgVs+3dk8tsCqWyYFpvoUiFVMgzc9MMKDGHXNpEDTHE97/shKpqEramr0kdQtkwIrFwPZp6AxWFrVUrC8qlsmBVYqmX0KGoWCePpIPTEpsHJFc4hHXhq8otja1lyLq7pmUqCtWHH0kcZhVUezpzvVMZNCKyz3KUjDturiNQusOuYVzbSjj+xT0Eg05bV9vNhQdBKypcD0dQo2xzV8q1sKlld1y6TA8txHeJ2CRqHpU2gfLzYUnYQ6SQpJzkpyU5JDSS5c4/X7Jnlv+/oVSXZ1sd2uFO3po0UHIm2QfQrqy9xJIclW4BLgbGAP8Lwke2ZWezHwzap6BPBm4PXzbrdLyy2FLVsckqphWy6fmRzBWF7VrS46mvcBh6rqZoAklwHnAjdMrXMu8Nr28QeA30qSupdv4C/+1R08802f6CC8Y/urb3+fbadsIQX/89q/4NNf+vqmbFc6XssVZnmW1Be/6yDbtnoWWN3pIimcAdwy9fww8JPrrVNVR5PcDjwI+Nr0SknOB84HuP/f/XvsfsipHYR3bLsfciqPf9gDWari2lu+tSnblE7Uj//IaTx3707+1zW38v2j9yw6HA3MH875/kENSa2qS4FLAfbu3Vv/9V88YcERScP11EduX3QIGqC3PH++93fR7rwV2Dn1fEe7bM11kpwC/B3AczSSNDBdJIUrgd1JzkyyDTgP2D+zzn7gBe3j5wAfu7f+BEnSYsx9+qjtI7gAuBzYCryjqq5PcjFwsKr2A28H3p3kEPANmsQhSRqYTvoUquoAcGBm2UVTj78PPLeLbUmS+uNYNknShElBkjRhUpAkTZgUJEkTGerI0CR3ADctOo4NOJ2ZK7MHaAwxgnF2zTi7NZY4f6yqTjvRNw/qiuYZN1XV3kUHcSxJDg49zjHECMbZNePs1pjinOf9nj6SJE2YFCRJE0NOCpcuOoANGkOcY4gRjLNrxtmtvxVxDrajWZK0+YbcUpAkbTKTgiRp4l6TQpJdST4/s+y1SV7Rb1jz2WiMSV6d5FCSm5L8ow1+9tYk1yT5cPv86UmuTvL5JO9q7xexUEle1sZzfZJfbJf9gyR/nORzSX4vyf0XENc7ktw2W6ba134pSSU5vX3+wCS/m+SzST6T5NGLjHO9/ZdkW5J3tsuvS/K0TYpxZ5KPJ7mh/Tu/bOb1QezP9eIc4P78gXa/XNfG+eszr/+XJN+Zev7wJB9t9+cfJdmxyDjX+x46ob97Va37A+wCPj+z7LXAK+7tfYv+2UiMwB7gOuC+wJnAl4CtG/jslwPvAT5Mk1RvAR7ZvnYx8OIF/98fDXweuB/NdSh/CDyC5r4XT23XeRHwGwuI7SnA49coUztppl7/M+D0dtkbgV9rH/848NFFxrne/gNeCryzffxg4CpgyybE+FDg8e3j04AvAnuGtj/Xi3OA+zPAqe3j+wBXAE9qn+8F3g18Z2r99wMvaB8/HXj3Ju3PteL8h+t9D53I332u00dthnx9m4G+mOTJ7fIXJvlQkt9P8qdJ3jD1nrckOTibjZN8Jcnrklzbvv74JJcn+VKSl0yt98tJrmwz3/T7X9PG8CngxzYQ/rnAZVV1Z1V9GTgE7DvG/3cH8LPAb7eLHgTcVVVfbJ9/BHj2Brbdp0cBV1TV96rqKPAJ4J8BjwQ+2a6zkDir6pM099OY9Wbglazclx6aL46Pte/7ArAryUN6D5J141xv/03HeRvwLZovkb5j/GpVXd0+vgO4keZe6DCg/XkvcQ5tf1ZVLbcE7tP+VJKtNF+sr5x5yyRO4OM03ye9WyfOe1j/e+i4/+5d9CmcUlX7gF8Efm1q+eOAnwceA/x8kuVbdr6mmqsCHws8Ncljp97z51X1OOD/Ar9Dc5e2JwHLTaRnAbtpvrwfBzwhyVOSPIHmxj2PA34GeOLyByZ5yXRSmXIGTXZddpiVSrWe/0xTOJba518DTkmyXGifw+pbky7C54EnJ3lQkvvR7I+dwPWsFNznsvg4AUhyLnBrVV0389J1NMmMJPuAh9Pc6nVR1tt/1wHnJDklyZnAE9jkfZtkF/ATwBVD3p/TcTLA/Znm1PC1wG3AR6rqCuACYH9VfXVm9cn+BP4pcFqSBy0iTuAzrP89dNx/92MlhfXGq04v/1D7+yqa003LPlpVt1dzg50b2mAA/nmSq4FrgL9Pk8mWLd/G83M0R7t3VNUR4M4kDwCe1f5cA1xN0xzaDTwZ+N326PjbU59DVb21qt56jP/nMSX5x8BtVXXV1GcXTTJ6c5LPAHfQZO2FqaobgdcDfwD8PnBtG9OLgH+T5CqaZvxdCwuy1SatXwEuWuPl/wg8oC38/5bmb77Ifbve/nsHzQHFQZqDhk+ziXEmORX4IM1B2VEGuj+n42zr6OD2Z1Xd0x6U7gD2JXkKTcL6zTVWfwXNQe01wFNp7kO/kDhpvkfX+x467r/7sTpFvw48cGbZDwNfnnp+Z/v7npnPu3Pq8T00mexMmp35xKr6ZpLfAX5gjfcszbx/qf3sAK+rqrdNB5S2M/U43crqI5Ad7bL1/BTNEczPtDHfP8l/q6rn0ySl5ZbMI08glk5V1dtpboFKkv8AHG6bjs9qlz2S5jTYov0oTX/OdUmg+RtcnWRfVf0l8K8B0rz4ZeDmRQW63v5rT9H9++X1knya5rx575Lch+aL9r9X1YeSPIYB7s/ZOGGY+3NZVX0ryceBn6bpjzvU7s/7JTlUVY+oqr9g5Qj8VODZVfWtBcV5VlX9J9b4HmoT8HH93e+1pdCeu/pqkqe3H/rDwFnAp07w/3F/4LvA7e15rbOP8/2XAy9q/wgkOSPJg2nOTf5ckh9MchrwTzbwWfuB85Lct01Wu2maYWuqqldX1Y6q2kWTlT9WVc9vt0+S+wKvAuZulcxrKqaH0RTc90wt2wL8KgOIs6o+V1UPrqpd7X49TNMp+ZdJHpBkW7vqLwCfbAv4Qqy3/5LcL8kPtY+fCRytqhs2IZ7QJP4bq+pNMMz9uVac7fKh7c/t7dkIkvwg8Ezgqqr6kan9+b2qekS7zult7ACvpmnh9G6dOL+w3vfQifzdNzJ88l8BlyRZ/oP+elV96bj/N0BVXdc2t75Acz7//x3n+/8gyaOAP24z93eA51fV1UneS3P+7DaakQ1A06fQvvetM591fZL30ZzaOgq8tKpOpPn3y+2ppS3AW6rqY8d6wyb4YHt+826a/9e30gxTfWn7+oeAd252UEn+B/A04PQkh2lGRbx9ndUfBbwrSdGcf37x5kS5dpzAqevsvwcDlydZomlp/stNCvOn2m19rj01APAr1dwvfS2L2p9rxgnsHtj+fCjN/tlKU5ffV1Ufvpf1nwa8rt2fn6QZNbUZ1owzyRvX+R467r+701xIkia8olmSNGFSkCRNmBQkSRMmBUnShElBkjRhUpAkTZgUJEkT/x86kVA4fUe3FwAAAABJRU5ErkJggg\u003d\u003d\n",
            "text/plain": [
              "\u003cFigure size 432x288 with 1 Axes\u003e"
            ]
          },
          "metadata": {
            "needs_background": "light"
          },
          "output_type": "display_data"
        }
      ],
      "source": "df_norm \u003d df.iloc[1:-1].div(df.sum(axis\u003d1), axis\u003d0)\n\ndf_norm.iloc[920][:-1].plot()\n"
    },
    {
      "cell_type": "code",
      "execution_count": 47,
      "outputs": [
        {
          "name": "stdout",
          "text": [
            "\u003cclass \u0027pandas.core.frame.DataFrame\u0027\u003e\nRangeIndex: 1480 entries, 0 to 1479\nData columns (total 1 columns):\ny    1480 non-null float64\ndtypes: float64(1)\nmemory usage: 11.7 KB\n"
          ],
          "output_type": "stream"
        },
        {
          "data": {
            "text/plain": "\u003cmatplotlib.axes._subplots.AxesSubplot at 0x12013a9d0\u003e"
          },
          "metadata": {},
          "output_type": "execute_result",
          "execution_count": 47
        },
        {
          "data": {
            "text/plain": "\u003cFigure size 432x288 with 1 Axes\u003e",
            "image/png": "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\u003d\u003d\n"
          },
          "metadata": {
            "needs_background": "light"
          },
          "output_type": "display_data"
        }
      ],
      "source": "pd.DataFrame(df.loc[:, \u0027y\u0027], columns\u003d[\u0027y\u0027]).info()\npd.DataFrame(df.loc[:, \u0027y\u0027], columns\u003d[\u0027y\u0027])[\u0027y\u0027].value_counts().plot(kind\u003d\u0027bar\u0027)\n",
      "metadata": {
        "pycharm": {
          "metadata": false,
          "name": "#%%\n",
          "is_executing": false
        }
      }
    },
    {
      "cell_type": "code",
      "execution_count": 88,
      "outputs": [],
      "source": "df[0:399] \u003d df[0:399][:]/df[0:399][:].max()\n\n",
      "metadata": {
        "pycharm": {
          "metadata": false,
          "name": "#%%\n",
          "is_executing": false
        }
      }
    },
    {
      "cell_type": "code",
      "execution_count": 99,
      "outputs": [
        {
          "data": {
            "text/plain": "\u003cmatplotlib.axes._subplots.AxesSubplot at 0x130044e50\u003e"
          },
          "metadata": {},
          "output_type": "execute_result",
          "execution_count": 99
        },
        {
          "data": {
            "text/plain": "\u003cFigure size 432x288 with 1 Axes\u003e",
            "image/png": "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\u003d\n"
          },
          "metadata": {
            "needs_background": "light"
          },
          "output_type": "display_data"
        }
      ],
      "source": "(df.iloc[1449][:-1]/df.iloc[1449][:-1].max()).plot()",
      "metadata": {
        "pycharm": {
          "metadata": false,
          "name": "#%%\n",
          "is_executing": false
        }
      }
    },
    {
      "cell_type": "code",
      "execution_count": 113,
      "outputs": [
        {
          "data": {
            "text/plain": "\u003cmatplotlib.axes._subplots.AxesSubplot at 0x130df9990\u003e"
          },
          "metadata": {},
          "output_type": "execute_result",
          "execution_count": 113
        },
        {
          "data": {
            "text/plain": "\u003cFigure size 432x288 with 1 Axes\u003e",
            "image/png": "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\u003d\u003d\n"
          },
          "metadata": {
            "needs_background": "light"
          },
          "output_type": "display_data"
        }
      ],
      "source": "df[\u0027y\u0027].value_counts().plot(kind\u003d\u0027bar\u0027)",
      "metadata": {
        "pycharm": {
          "metadata": false,
          "name": "#%%\n",
          "is_executing": false
        }
      }
    }
  ],
  "metadata": {
    "kernelspec": {
      "display_name": "Python 3",
      "language": "python",
      "name": "python3"
    },
    "language_info": {
      "codemirror_mode": {
        "name": "ipython",
        "version": 3
      },
      "file_extension": ".py",
      "mimetype": "text/x-python",
      "name": "python",
      "nbconvert_exporter": "python",
      "pygments_lexer": "ipython3",
      "version": "3.7.6"
    }
  },
  "nbformat": 4,
  "nbformat_minor": 1
}